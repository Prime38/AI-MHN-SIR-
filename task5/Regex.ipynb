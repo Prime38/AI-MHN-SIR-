{
 "cells": [
  {
   "cell_type": "code",
   "execution_count": 2,
   "metadata": {
    "colab": {},
    "colab_type": "code",
    "id": "2v7Y6GDi_5Od"
   },
   "outputs": [],
   "source": [
    "import re"
   ]
  },
  {
   "cell_type": "code",
   "execution_count": 3,
   "metadata": {
    "colab": {},
    "colab_type": "code",
    "id": "BNX_xHoB_-jY"
   },
   "outputs": [],
   "source": [
    "def cell_number(text):\n",
    "  pattern = r'(\\+88)?01[5-9][0-9]{8}'\n",
    "  return re.findall(pattern, text)"
   ]
  },
  {
   "cell_type": "code",
   "execution_count": 4,
   "metadata": {
    "colab": {
     "base_uri": "https://localhost:8080/",
     "height": 34
    },
    "colab_type": "code",
    "id": "C6ULkatcAUaW",
    "outputId": "450caff1-cc8e-423e-ab26-c7fa83e9a7b0"
   },
   "outputs": [
    {
     "data": {
      "text/plain": [
       "['+88']"
      ]
     },
     "execution_count": 4,
     "metadata": {},
     "output_type": "execute_result"
    }
   ],
   "source": [
    "cell_number('my phone number is +8801615331058 ')"
   ]
  },
  {
   "cell_type": "code",
   "execution_count": 5,
   "metadata": {
    "colab": {},
    "colab_type": "code",
    "id": "urVkcddcAgbm"
   },
   "outputs": [],
   "source": [
    "def email(text):\n",
    "  pattern = r\"([a-zA-Z0-9_.+-]+@[a-zA-Z0-9-]+\\.[a-zA-Z0-9-.]+)\"\n",
    "  return re.findall(pattern,text)"
   ]
  },
  {
   "cell_type": "code",
   "execution_count": 6,
   "metadata": {
    "colab": {
     "base_uri": "https://localhost:8080/",
     "height": 34
    },
    "colab_type": "code",
    "id": "0fiPE2PpIX03",
    "outputId": "b0b11a65-0f3c-4af2-bca6-bc70b91388d8"
   },
   "outputs": [
    {
     "data": {
      "text/plain": [
       "['imrajon0@gmail.com']"
      ]
     },
     "execution_count": 6,
     "metadata": {},
     "output_type": "execute_result"
    }
   ],
   "source": [
    "email('my gmail is imrajon0@gmail.com')"
   ]
  },
  {
   "cell_type": "code",
   "execution_count": 7,
   "metadata": {
    "colab": {},
    "colab_type": "code",
    "id": "enz1c5eVLFvV"
   },
   "outputs": [],
   "source": [
    "def reg(text):\n",
    "  pattern = '[0-9]{4}331[0-9]{3}'\n",
    "  return re.findall(pattern, text)"
   ]
  },
  {
   "cell_type": "code",
   "execution_count": 8,
   "metadata": {
    "colab": {
     "base_uri": "https://localhost:8080/",
     "height": 34
    },
    "colab_type": "code",
    "id": "_z13zjtDLWLk",
    "outputId": "a326a969-794f-4e11-9058-8a16ee1ff363"
   },
   "outputs": [
    {
     "data": {
      "text/plain": [
       "['2015331058']"
      ]
     },
     "execution_count": 8,
     "metadata": {},
     "output_type": "execute_result"
    }
   ],
   "source": [
    "reg(' my reg is 2015331058')"
   ]
  },
  {
   "cell_type": "code",
   "execution_count": 9,
   "metadata": {
    "colab": {},
    "colab_type": "code",
    "id": "xfZa4B9iLZxU"
   },
   "outputs": [],
   "source": [
    "def dep(text):\n",
    "  pattern = '[A-Z]{3}'\n",
    "  return re.findall(pattern, text)"
   ]
  },
  {
   "cell_type": "code",
   "execution_count": 10,
   "metadata": {
    "colab": {
     "base_uri": "https://localhost:8080/",
     "height": 34
    },
    "colab_type": "code",
    "id": "QZBGzOWULkq1",
    "outputId": "b58a521b-d429-4246-e981-9df82c81be39"
   },
   "outputs": [
    {
     "data": {
      "text/plain": [
       "['CSE', 'IAN']"
      ]
     },
     "execution_count": 10,
     "metadata": {},
     "output_type": "execute_result"
    }
   ],
   "source": [
    "dep('we are CSEIAN')"
   ]
  },
  {
   "cell_type": "code",
   "execution_count": 11,
   "metadata": {
    "colab": {},
    "colab_type": "code",
    "id": "XZLK2v1KLn3E"
   },
   "outputs": [],
   "source": [
    "def name(text):\n",
    "  pattern = '[A-Za-z]+'\n",
    "  return re.findall(pattern,text)"
   ]
  },
  {
   "cell_type": "code",
   "execution_count": 12,
   "metadata": {
    "colab": {
     "base_uri": "https://localhost:8080/",
     "height": 34
    },
    "colab_type": "code",
    "id": "s2lqiXsIL9HT",
    "outputId": "48615f9f-0998-434c-d582-789654a25b9a"
   },
   "outputs": [
    {
     "data": {
      "text/plain": [
       "['rajan', 'dayamoy', 'protik', 'rizu']"
      ]
     },
     "execution_count": 12,
     "metadata": {},
     "output_type": "execute_result"
    }
   ],
   "source": [
    "name('rajan dayamoy protik rizu')"
   ]
  },
  {
   "cell_type": "code",
   "execution_count": null,
   "metadata": {
    "colab": {},
    "colab_type": "code",
    "id": "Jw_hZAp2MA4V"
   },
   "outputs": [],
   "source": []
  }
 ],
 "metadata": {
  "colab": {
   "name": "Regex.ipynb",
   "provenance": [],
   "version": "0.3.2"
  },
  "kernelspec": {
   "display_name": "Python 3",
   "language": "python",
   "name": "python3"
  },
  "language_info": {
   "codemirror_mode": {
    "name": "ipython",
    "version": 3
   },
   "file_extension": ".py",
   "mimetype": "text/x-python",
   "name": "python",
   "nbconvert_exporter": "python",
   "pygments_lexer": "ipython3",
   "version": "3.7.3"
  }
 },
 "nbformat": 4,
 "nbformat_minor": 1
}
